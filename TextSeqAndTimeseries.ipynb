{
  "nbformat": 4,
  "nbformat_minor": 0,
  "metadata": {
    "colab": {
      "provenance": []
    },
    "kernelspec": {
      "name": "python3",
      "display_name": "Python 3"
    },
    "language_info": {
      "name": "python"
    }
  },
  "cells": [
    {
      "cell_type": "code",
      "execution_count": 2,
      "metadata": {
        "colab": {
          "base_uri": "https://localhost:8080/"
        },
        "id": "BLxuG6kZKlSV",
        "outputId": "dbb92a74-87af-414d-b717-1e0042fdaf86"
      },
      "outputs": [
        {
          "output_type": "stream",
          "name": "stdout",
          "text": [
            "Requirement already satisfied: nltk in /usr/local/lib/python3.10/dist-packages (3.8.1)\n",
            "Requirement already satisfied: click in /usr/local/lib/python3.10/dist-packages (from nltk) (8.1.6)\n",
            "Requirement already satisfied: joblib in /usr/local/lib/python3.10/dist-packages (from nltk) (1.3.1)\n",
            "Requirement already satisfied: regex>=2021.8.3 in /usr/local/lib/python3.10/dist-packages (from nltk) (2022.10.31)\n",
            "Requirement already satisfied: tqdm in /usr/local/lib/python3.10/dist-packages (from nltk) (4.65.0)\n"
          ]
        }
      ],
      "source": [
        "!pip install nltk"
      ]
    },
    {
      "cell_type": "code",
      "source": [
        "import nltk\n",
        "nltk.download('punkt')"
      ],
      "metadata": {
        "colab": {
          "base_uri": "https://localhost:8080/"
        },
        "id": "8uUv_ow-K3EH",
        "outputId": "d4593dab-9dcd-40ac-d272-b95fa7a37b62"
      },
      "execution_count": 3,
      "outputs": [
        {
          "output_type": "stream",
          "name": "stderr",
          "text": [
            "[nltk_data] Downloading package punkt to /root/nltk_data...\n",
            "[nltk_data]   Unzipping tokenizers/punkt.zip.\n"
          ]
        },
        {
          "output_type": "execute_result",
          "data": {
            "text/plain": [
              "True"
            ]
          },
          "metadata": {},
          "execution_count": 3
        }
      ]
    },
    {
      "cell_type": "code",
      "source": [
        "nltk.download('gutenberg')"
      ],
      "metadata": {
        "colab": {
          "base_uri": "https://localhost:8080/"
        },
        "id": "gkdLb4XgMhKm",
        "outputId": "62773482-ae0c-4316-e489-29277e69ea2e"
      },
      "execution_count": 4,
      "outputs": [
        {
          "output_type": "stream",
          "name": "stderr",
          "text": [
            "[nltk_data] Downloading package gutenberg to /root/nltk_data...\n",
            "[nltk_data]   Unzipping corpora/gutenberg.zip.\n"
          ]
        },
        {
          "output_type": "execute_result",
          "data": {
            "text/plain": [
              "True"
            ]
          },
          "metadata": {},
          "execution_count": 4
        }
      ]
    },
    {
      "cell_type": "code",
      "source": [
        "corpus = \"\"\"This is a sample sentence for n-gram demonstration.\"\"\""
      ],
      "metadata": {
        "id": "14XuEfixMpID"
      },
      "execution_count": 5,
      "outputs": []
    },
    {
      "cell_type": "code",
      "source": [
        "from nltk.util import ngrams\n",
        "import tensorflow as tf"
      ],
      "metadata": {
        "id": "fTa8aGOJNqz0"
      },
      "execution_count": 6,
      "outputs": []
    },
    {
      "cell_type": "markdown",
      "source": [
        "Here i imports the ngrams function from the nltk.util module and the TensorFlow library as tf."
      ],
      "metadata": {
        "id": "vsD-MAJvFwMz"
      }
    },
    {
      "cell_type": "code",
      "source": [
        "words = nltk.word_tokenize(corpus)"
      ],
      "metadata": {
        "id": "JOEys9PcODgN"
      },
      "execution_count": 7,
      "outputs": []
    },
    {
      "cell_type": "markdown",
      "source": [
        "the nltk.word_tokenize() function to tokenize the words in the \"corpus\" variable, which is a text document or string. The result is a list of individual words from the text."
      ],
      "metadata": {
        "id": "e7rIbkkeF6_q"
      }
    },
    {
      "cell_type": "code",
      "source": [
        "n = 5"
      ],
      "metadata": {
        "id": "Y-ayVAs_Oaf3"
      },
      "execution_count": 8,
      "outputs": []
    },
    {
      "cell_type": "code",
      "source": [
        "ngrams_list = (ngrams(words, n))"
      ],
      "metadata": {
        "id": "-w7ELov5PGYI"
      },
      "execution_count": 9,
      "outputs": []
    },
    {
      "cell_type": "markdown",
      "source": [
        "the nltk.util.ngrams() function to generate n-grams from the list of words stored in the \"words\" variable. The \"n\" represents the number of words in each n-gram. The \"ngrams_list\" variable will store the list of generated n-grams."
      ],
      "metadata": {
        "id": "pg5hh0-uGDXP"
      }
    },
    {
      "cell_type": "code",
      "source": [
        "for ngram in ngrams_list:\n",
        "  print(ngram)"
      ],
      "metadata": {
        "colab": {
          "base_uri": "https://localhost:8080/"
        },
        "id": "jXsm0AF6PRlU",
        "outputId": "519fe6a2-6805-4044-f543-5c55eaa7fd65"
      },
      "execution_count": 10,
      "outputs": [
        {
          "output_type": "stream",
          "name": "stdout",
          "text": [
            "('This', 'is', 'a', 'sample', 'sentence')\n",
            "('is', 'a', 'sample', 'sentence', 'for')\n",
            "('a', 'sample', 'sentence', 'for', 'n-gram')\n",
            "('sample', 'sentence', 'for', 'n-gram', 'demonstration')\n",
            "('sentence', 'for', 'n-gram', 'demonstration', '.')\n"
          ]
        }
      ]
    },
    {
      "cell_type": "markdown",
      "source": [
        "This code snippet iterates through the \"ngrams_list\" and prints each n-gram on a separate line. It displays the generated n-grams one by one."
      ],
      "metadata": {
        "id": "DG9urrghGLeL"
      }
    },
    {
      "cell_type": "code",
      "source": [
        "# Word-level one-hot encoding (toy example)\n",
        "samples = ['the cat sat on the mat.', 'the dog ate my homework.']"
      ],
      "metadata": {
        "id": "AYg_fPx6PUKl"
      },
      "execution_count": 11,
      "outputs": []
    },
    {
      "cell_type": "code",
      "source": [
        "token_index = {}\n",
        "for sample in samples:\n",
        "  for word in sample.split():\n",
        "    if word  not in token_index:\n",
        "      token_index [word] = len(token_index) + 1"
      ],
      "metadata": {
        "id": "B0iC9FtBVqxW"
      },
      "execution_count": 12,
      "outputs": []
    },
    {
      "cell_type": "markdown",
      "source": [
        "Here i creates a \"token_index\" dictionary to map each unique word in the \"samples\" list to an integer index. It iterates through the samples, splits them into words, and assigns a unique index to each word in the dictionary."
      ],
      "metadata": {
        "id": "5oK2YwVNGdpd"
      }
    },
    {
      "cell_type": "code",
      "source": [
        "max_length = 10\n",
        "import numpy as np\n",
        "results = np.zeros(shape=(len(samples), max_length, max(token_index.values()) + 1))"
      ],
      "metadata": {
        "id": "CoXAys96V3ju"
      },
      "execution_count": 13,
      "outputs": []
    },
    {
      "cell_type": "markdown",
      "source": [
        "A 3D NumPy array \"results\" to store one-hot encoded representations of words in each sample. The array's dimensions are determined by the number of samples, the maximum length of a sample in words, and the number of unique words in the \"samples\" list."
      ],
      "metadata": {
        "id": "qOQuApsOGtqZ"
      }
    },
    {
      "cell_type": "code",
      "source": [
        "for i, sample in enumerate(samples):\n",
        "  for j , word in list(enumerate(sample.split()))[:max_length]:\n",
        "    index = token_index.get(word)\n",
        "    results[i , j, index] = 1.\n"
      ],
      "metadata": {
        "id": "x2HIBgodW0aW"
      },
      "execution_count": 14,
      "outputs": []
    },
    {
      "cell_type": "markdown",
      "source": [
        "Through each sample and word in \"samples,\" creating a one-hot encoded representation for each word in \"results\" using the \"token_index\" dictionary. The representation is determined by the word's index in the dictionary and its position in the sample, limited to the maximum length specified."
      ],
      "metadata": {
        "id": "OBAZjD5MG2U_"
      }
    },
    {
      "cell_type": "code",
      "source": [
        "results"
      ],
      "metadata": {
        "colab": {
          "base_uri": "https://localhost:8080/"
        },
        "id": "wQngmhlEYVNF",
        "outputId": "27b99e31-918a-4d7a-a74b-0479c621caed"
      },
      "execution_count": 15,
      "outputs": [
        {
          "output_type": "execute_result",
          "data": {
            "text/plain": [
              "array([[[0., 1., 0., 0., 0., 0., 0., 0., 0., 0.],\n",
              "        [0., 0., 1., 0., 0., 0., 0., 0., 0., 0.],\n",
              "        [0., 0., 0., 1., 0., 0., 0., 0., 0., 0.],\n",
              "        [0., 0., 0., 0., 1., 0., 0., 0., 0., 0.],\n",
              "        [0., 1., 0., 0., 0., 0., 0., 0., 0., 0.],\n",
              "        [0., 0., 0., 0., 0., 1., 0., 0., 0., 0.],\n",
              "        [0., 0., 0., 0., 0., 0., 0., 0., 0., 0.],\n",
              "        [0., 0., 0., 0., 0., 0., 0., 0., 0., 0.],\n",
              "        [0., 0., 0., 0., 0., 0., 0., 0., 0., 0.],\n",
              "        [0., 0., 0., 0., 0., 0., 0., 0., 0., 0.]],\n",
              "\n",
              "       [[0., 1., 0., 0., 0., 0., 0., 0., 0., 0.],\n",
              "        [0., 0., 0., 0., 0., 0., 1., 0., 0., 0.],\n",
              "        [0., 0., 0., 0., 0., 0., 0., 1., 0., 0.],\n",
              "        [0., 0., 0., 0., 0., 0., 0., 0., 1., 0.],\n",
              "        [0., 0., 0., 0., 0., 0., 0., 0., 0., 1.],\n",
              "        [0., 0., 0., 0., 0., 0., 0., 0., 0., 0.],\n",
              "        [0., 0., 0., 0., 0., 0., 0., 0., 0., 0.],\n",
              "        [0., 0., 0., 0., 0., 0., 0., 0., 0., 0.],\n",
              "        [0., 0., 0., 0., 0., 0., 0., 0., 0., 0.],\n",
              "        [0., 0., 0., 0., 0., 0., 0., 0., 0., 0.]]])"
            ]
          },
          "metadata": {},
          "execution_count": 15
        }
      ]
    },
    {
      "cell_type": "code",
      "source": [
        "#Character-level one-hot encoding (toy example)\n",
        "import string\n",
        "samples = ['the cat sat on the mat.', 'the dog ate my homework.']\n",
        "characters = string.printable\n",
        "token_index = dict(zip(range(1, len(characters)+ 1), characters))\n",
        "max_lenght = 50\n",
        "results = np.zeros((len(samples), max_lenght, max(token_index.keys())+ 1))\n",
        "for i, sample in enumerate(samples):\n",
        "  for j, character in enumerate(sample):\n",
        "    index = token_index.get(character)\n",
        "    results[i, j, index] = 1."
      ],
      "metadata": {
        "id": "pQjWOv9FZkLK"
      },
      "execution_count": 16,
      "outputs": []
    },
    {
      "cell_type": "markdown",
      "source": [
        "Here i tokenizes each character in the \"samples\" list and one-hot encodes them based on the \"characters\" dictionary, where each character is associated with a unique index. The maximum sequence length is set to 50, and the encoded characters are stored in the \"results\" array, where the third dimension represents the one-hot encoded character representation for each sample."
      ],
      "metadata": {
        "id": "2pNI4lgtHCSP"
      }
    },
    {
      "cell_type": "code",
      "source": [
        "#Using Keras for word-level one-hot encoding\n",
        "from keras.preprocessing.text import Tokenizer\n",
        "samples = ['the cat sat on the mat.', 'the dog ate my homework.']\n",
        "tokenizer = Tokenizer(num_words = 1000)\n",
        "tokenizer.fit_on_texts(samples)\n",
        "sequence = tokenizer.fit_on_sequences(samples)\n",
        "one_hot_result = tokenizer.texts_to_matrix(samples, mode = 'binary')"
      ],
      "metadata": {
        "id": "aTO5iSsZZ7L_"
      },
      "execution_count": 17,
      "outputs": []
    },
    {
      "cell_type": "markdown",
      "source": [
        "Here i utilizes Keras Tokenizer to tokenize the \"samples\" text data and convert it into sequences of word indices. It then performs one-hot encoding on the sequences using the texts_to_matrix method with mode='binary', resulting in a binary matrix representation of the presence or absence of words in the \"samples\" data."
      ],
      "metadata": {
        "id": "tt80CQseHY33"
      }
    },
    {
      "cell_type": "code",
      "source": [
        "word_index = tokenizer.word_index\n",
        "print('Found %s unique tokens.' % len(word_index))"
      ],
      "metadata": {
        "colab": {
          "base_uri": "https://localhost:8080/"
        },
        "id": "95muvbghb0eM",
        "outputId": "3ac7a195-cd55-4d22-d2d4-56c69255170d"
      },
      "execution_count": 18,
      "outputs": [
        {
          "output_type": "stream",
          "name": "stdout",
          "text": [
            "Found 9 unique tokens.\n"
          ]
        }
      ]
    },
    {
      "cell_type": "code",
      "source": [
        "samples = ['The cat sat on the mat.', 'The dog ate my homework.']\n",
        "dimensionality = 1000\n",
        "max_length = 10\n",
        "results = np.zeros((len(samples), max_length, dimensionality))\n",
        "for i, sample in enumerate(samples):\n",
        "  for j, word in list(enumerate(sample.split()))[:max_length]:\n",
        "    index = abs(hash(word)) % dimensionality\n",
        "    results[i, j, index] = 1."
      ],
      "metadata": {
        "id": "C0I_oZfEekJt"
      },
      "execution_count": 19,
      "outputs": []
    },
    {
      "cell_type": "markdown",
      "source": [
        "the \"samples\" list is tokenized and converted into one-hot encoded representations with a fixed dimensionality of 1000 and a maximum sequence length of 10 words. A hash function is used to map each word to an index within the fixed dimensionality, and the one-hot encoded representation is stored in the \"results\" array."
      ],
      "metadata": {
        "id": "N4deOX3eHoVc"
      }
    },
    {
      "cell_type": "code",
      "source": [
        "from keras.layers import Embedding\n",
        "#Instantiating an Embedding layer\n",
        "embedding_layer = Embedding(1000, 64)"
      ],
      "metadata": {
        "id": "f6QgZxbSooce"
      },
      "execution_count": 2,
      "outputs": []
    },
    {
      "cell_type": "markdown",
      "source": [
        "An Embedding layer is instantiated with 1000 as the input dimension (vocabulary size) and 64 as the output dimension (embedding size). The Embedding layer will be used to convert integer sequences into dense word embeddings during model training."
      ],
      "metadata": {
        "id": "nu6iHMUqHxQR"
      }
    },
    {
      "cell_type": "code",
      "source": [
        "from keras.datasets import imdb\n",
        "from keras import preprocessing\n",
        "max_features = 10000\n",
        "maxlen = 20\n",
        "(x_train, y_train), (x_test, y_test) =imdb.load_data(num_words= max_features)\n",
        "import tensorflow as tf"
      ],
      "metadata": {
        "colab": {
          "base_uri": "https://localhost:8080/"
        },
        "id": "bz1ZIA_xozxt",
        "outputId": "fc1b0ac7-5feb-4d72-ed68-4c365394380f"
      },
      "execution_count": 3,
      "outputs": [
        {
          "output_type": "stream",
          "name": "stdout",
          "text": [
            "Downloading data from https://storage.googleapis.com/tensorflow/tf-keras-datasets/imdb.npz\n",
            "17464789/17464789 [==============================] - 0s 0us/step\n"
          ]
        }
      ]
    },
    {
      "cell_type": "markdown",
      "source": [
        "The IMDB movie review dataset is loaded using Keras, and the dataset is preprocessed. The dataset is limited to the top 10,000 most frequently occurring words (max_features) to reduce the vocabulary size. Additionally, the maximum length of each review is set to 20 (maxlen) by truncating or padding the sequences. The training and testing data are split into input sequences (x_train and x_test) and their corresponding labels (y_train and y_test). The TensorFlow library is also imported for future use."
      ],
      "metadata": {
        "id": "77YNu_osJKnj"
      }
    },
    {
      "cell_type": "code",
      "source": [
        "x_train = tf.keras.preprocessing.sequence.pad_sequences(x_train, maxlen=maxlen)\n",
        "x_test = tf.keras.preprocessing.sequence.pad_sequences(x_test, maxlen = maxlen)"
      ],
      "metadata": {
        "id": "TJhmtoA8xNeN"
      },
      "execution_count": 4,
      "outputs": []
    },
    {
      "cell_type": "markdown",
      "source": [
        "The IMDb movie review dataset from Keras and pads the input sequences to a fixed length of 20 for both training and testing data. This ensures that all sequences have the same length, making them suitable for training a neural network mode"
      ],
      "metadata": {
        "id": "Kkh85oR-Jci5"
      }
    },
    {
      "cell_type": "code",
      "source": [
        "# Using an Embedding layer and classifier on the IMDB\n",
        "from keras.models import Sequential\n",
        "from keras.layers import Dense, Flatten\n",
        "model = Sequential()\n",
        "model.add(Embedding(10000,8, input_length= maxlen))\n",
        "model.add(Flatten())\n",
        "model.add(Dense(1, activation = 'sigmoid'))"
      ],
      "metadata": {
        "id": "WbKTTQW59BPx"
      },
      "execution_count": 5,
      "outputs": []
    },
    {
      "cell_type": "markdown",
      "source": [
        " A Sequential model in Keras for sentiment analysis. It uses an Embedding layer with input dimension 10,000, output dimension 8, and input length of 20. The output from the Embedding layer is flattened and passed through a Dense layer with a single neuron and sigmoid activation function for binary classification.\n",
        "\n",
        "\n",
        "\n",
        "\n",
        "\n"
      ],
      "metadata": {
        "id": "GlvVyHvrJokn"
      }
    },
    {
      "cell_type": "code",
      "source": [
        "model.compile(optimizer = 'rmsprop', loss = 'binary_crossentropy', metrics = (['acc']))\n",
        "model.summary()"
      ],
      "metadata": {
        "colab": {
          "base_uri": "https://localhost:8080/"
        },
        "id": "tmI4guo0rLhU",
        "outputId": "2e7197c6-bb96-4d7a-e14c-bf8c142535d6"
      },
      "execution_count": 6,
      "outputs": [
        {
          "output_type": "stream",
          "name": "stdout",
          "text": [
            "Model: \"sequential\"\n",
            "_________________________________________________________________\n",
            " Layer (type)                Output Shape              Param #   \n",
            "=================================================================\n",
            " embedding_1 (Embedding)     (None, 20, 8)             80000     \n",
            "                                                                 \n",
            " flatten (Flatten)           (None, 160)               0         \n",
            "                                                                 \n",
            " dense (Dense)               (None, 1)                 161       \n",
            "                                                                 \n",
            "=================================================================\n",
            "Total params: 80,161\n",
            "Trainable params: 80,161\n",
            "Non-trainable params: 0\n",
            "_________________________________________________________________\n"
          ]
        }
      ]
    },
    {
      "cell_type": "code",
      "source": [
        "history = model.fit(x_train, y_train, epochs=10, batch_size=32, validation_split=0.2)"
      ],
      "metadata": {
        "id": "5F1AUXkWuGER"
      },
      "execution_count": null,
      "outputs": []
    },
    {
      "cell_type": "markdown",
      "source": [
        "We train the defined model using the training data (x_train and y_train) for 10 epochs with a batch size of 32. It also validates the model on a validation set, which is 20% of the training data, using the validation_split parameter. The training progress and validation metrics are stored in the history object for later analysis."
      ],
      "metadata": {
        "id": "3o7ocUlSJ3sj"
      }
    },
    {
      "cell_type": "code",
      "source": [
        "\n",
        "!wget  http://mng.bz/0tIo/aclImdb.zip\n",
        "#!unzip '/content/aclImdb.zip'"
      ],
      "metadata": {
        "id": "wtioLAgalHnc"
      },
      "execution_count": null,
      "outputs": []
    },
    {
      "cell_type": "markdown",
      "source": [
        "I used the wget utility to download the ACL IMDB dataset zip file from the provided URL (http://mng.bz/0tIo/aclImdb.zip) to the current working directory in the Colab environment."
      ],
      "metadata": {
        "id": "C2pdleL3KBgN"
      }
    },
    {
      "cell_type": "code",
      "source": [
        "!unzip '/content/aclImdb.zip'"
      ],
      "metadata": {
        "id": "UnjSxNeLyd2B"
      },
      "execution_count": null,
      "outputs": []
    },
    {
      "cell_type": "code",
      "source": [
        "# Processing the labels of the raw IMDB data\n",
        "import os\n",
        "imdb_dir = '/content/aclImdb'\n",
        "train_dir = os.path.join(imdb_dir, 'train')\n",
        "labels = []\n",
        "texts = []\n",
        "for label_type in ['neg', 'pos']:\n",
        "  dir_name = os.path.join(train_dir, label_type)\n",
        "  for fname in os.listdir(dir_name):\n",
        "    if fname [-4:] == '.txt':\n",
        "      f = open(os.path.join(dir_name, fname))\n",
        "      texts.append(f.read())\n",
        "      f.close()\n",
        "      if label_type == 'neg':\n",
        "        labels.append(0)\n",
        "      else:\n",
        "        labels.append(1)"
      ],
      "metadata": {
        "id": "lzX0DrhJuxZF"
      },
      "execution_count": 94,
      "outputs": []
    },
    {
      "cell_type": "markdown",
      "source": [
        " The IMDB dataset is loaded from the 'train' directory, and the labels and texts are extracted from the positive ('pos') and negative ('neg') review files. Each review's text is appended to the 'texts' list, and the corresponding sentiment label (0 for negative, 1 for positive) is appended to the 'labels' list."
      ],
      "metadata": {
        "id": "3jpj5lZnKJ-O"
      }
    },
    {
      "cell_type": "code",
      "source": [
        "from keras.preprocessing.text import Tokenizer\n",
        "from tensorflow.keras.preprocessing.sequence import pad_sequences\n",
        "import numpy as np"
      ],
      "metadata": {
        "id": "YvDQLdkYAox7"
      },
      "execution_count": 95,
      "outputs": []
    },
    {
      "cell_type": "markdown",
      "source": [
        "The Tokenizer class from Keras is imported for text preprocessing, and the pad_sequences function from TensorFlow's Keras API is imported for sequence padding. The numpy library is also imported as np. These imports are typically used in natural language processing tasks to tokenize and preprocess text data before feeding it into machine learning models."
      ],
      "metadata": {
        "id": "wbTa4evwKavo"
      }
    },
    {
      "cell_type": "code",
      "source": [
        "maxlen = 100\n",
        "training_samples =100\n",
        "validation_samples=10000\n",
        "max_words =10000\n"
      ],
      "metadata": {
        "id": "FPlb5eXUKRFl"
      },
      "execution_count": 96,
      "outputs": []
    },
    {
      "cell_type": "code",
      "source": [
        "tokenizer = Tokenizer(num_words=max_words)\n",
        "tokenizer.fit_on_sequences(texts)\n",
        "sequences = tokenizer.texts_to_sequences(texts)\n",
        "word_index = tokenizer.word_index"
      ],
      "metadata": {
        "id": "tJV5YFHbLv6P"
      },
      "execution_count": 97,
      "outputs": []
    },
    {
      "cell_type": "markdown",
      "source": [
        " I initialize a Tokenizer object with a specified number of maximum words, then fits it on the list of texts. It converts the texts into sequences of integers based on the fitted tokenizer and creates a word index dictionary."
      ],
      "metadata": {
        "id": "wvTySuwfKjm5"
      }
    },
    {
      "cell_type": "code",
      "source": [
        "print ('Found %s unique tokens. ' % len(word_index))"
      ],
      "metadata": {
        "colab": {
          "base_uri": "https://localhost:8080/"
        },
        "id": "Zx58hm8GUGnS",
        "outputId": "69f1909c-8956-465e-abf7-0f3f18044303"
      },
      "execution_count": 98,
      "outputs": [
        {
          "output_type": "stream",
          "name": "stdout",
          "text": [
            "Found 0 unique tokens. \n"
          ]
        }
      ]
    },
    {
      "cell_type": "code",
      "source": [
        "data = pad_sequences(sequences, maxlen = maxlen)\n",
        "labels = np.array(labels)"
      ],
      "metadata": {
        "id": "iteH-bd9UUHp"
      },
      "execution_count": 99,
      "outputs": []
    },
    {
      "cell_type": "markdown",
      "source": [
        "Pads the sequences of integers (data) to a fixed maximum length (maxlen) using the pad_sequences function from Keras. It ensures that all sequences have the same length by padding or truncating them. It also converts the list of labels to a NumPy array (labels) for further processing"
      ],
      "metadata": {
        "id": "LHRUI6OfKsue"
      }
    },
    {
      "cell_type": "code",
      "source": [
        "print('shape of data tensor is :  ', data.shape)\n",
        "print('shape of labels tensor is :', labels.shape)"
      ],
      "metadata": {
        "colab": {
          "base_uri": "https://localhost:8080/"
        },
        "id": "pAhoPpQzy2s1",
        "outputId": "6c5c6a62-8320-4c91-836f-7514467deab4"
      },
      "execution_count": 100,
      "outputs": [
        {
          "output_type": "stream",
          "name": "stdout",
          "text": [
            "shape of data tensor is :   (25000, 100)\n",
            "shape of labels tensor is : (25000,)\n"
          ]
        }
      ]
    },
    {
      "cell_type": "code",
      "source": [
        "indices = np.arange(data.shape[0])"
      ],
      "metadata": {
        "id": "6zvoBYOfy497"
      },
      "execution_count": 101,
      "outputs": []
    },
    {
      "cell_type": "code",
      "source": [
        "np.random.shuffle(indices)\n",
        "data = data[indices]\n",
        "labels = labels[indices]"
      ],
      "metadata": {
        "id": "rDO6UASk0LNG"
      },
      "execution_count": 102,
      "outputs": []
    },
    {
      "cell_type": "markdown",
      "source": [
        "The shuffles the indices of the data (sequences) and labels using np.random.shuffle. This step is essential for randomizing the order of the data and labels, which helps to ensure unbiased training and avoid potential ordering-related biases. It then reassigns the data and labels according to the new shuffled order, so they are ready for further processing and model training."
      ],
      "metadata": {
        "id": "vzwJvTKHKzv0"
      }
    },
    {
      "cell_type": "code",
      "source": [
        "x_train = data[: training_samples]\n",
        "y_train = labels [: training_samples]\n",
        "x_val = data[training_samples: training_samples+ validation_samples]\n",
        "y_val = labels [training_samples: training_samples+validation_samples]"
      ],
      "metadata": {
        "id": "br5SN1cg0aT3"
      },
      "execution_count": 103,
      "outputs": []
    },
    {
      "cell_type": "markdown",
      "source": [
        "Splitting the shuffled data and labels into training and validation sets. It assigns the first \"training_samples\" data points and corresponding labels to \"x_train\" and \"y_train,\" respectively. The next \"validation_samples\" data points and labels are assigned to \"x_val\" and \"y_val,\" respectively. This process creates separate datasets for training and validation, which are commonly used to evaluate and fine-tune the model's performance during training."
      ],
      "metadata": {
        "id": "pc_Kq9ibK7Ov"
      }
    },
    {
      "cell_type": "code",
      "source": [
        "! pip install wget"
      ],
      "metadata": {
        "colab": {
          "base_uri": "https://localhost:8080/"
        },
        "id": "YIi8-Mr80sOl",
        "outputId": "be4a719f-d62a-4417-b327-e3b4a3ab2392"
      },
      "execution_count": 114,
      "outputs": [
        {
          "output_type": "stream",
          "name": "stdout",
          "text": [
            "Requirement already satisfied: wget in /usr/local/lib/python3.10/dist-packages (3.2)\n"
          ]
        }
      ]
    },
    {
      "cell_type": "code",
      "source": [
        "!wget https://nlp.stanford.edu/data/glove.6B.zip"
      ],
      "metadata": {
        "id": "fJyaRlaLUjGf"
      },
      "execution_count": null,
      "outputs": []
    },
    {
      "cell_type": "markdown",
      "source": [
        "The command !wget https://nlp.stanford.edu/data/glove.6B.zip is used to download the GloVe word embeddings file in the form of a zip archive. The file contains pre-trained word vectors that can be used as word embeddings in various natural language processing tasks. GloVe (Global Vectors for Word Representation) is a popular word embedding technique that captures semantic relationships between words based on word co-occurrence statistics from a large corpus of text."
      ],
      "metadata": {
        "id": "vYbWCb27LEuh"
      }
    },
    {
      "cell_type": "code",
      "source": [
        "! unzip '/content/glove.6B.zip'"
      ],
      "metadata": {
        "colab": {
          "base_uri": "https://localhost:8080/"
        },
        "id": "I2AuvNHQUu1a",
        "outputId": "89c64035-74d9-4fcb-b558-4307ba3db571"
      },
      "execution_count": 23,
      "outputs": [
        {
          "output_type": "stream",
          "name": "stdout",
          "text": [
            "Archive:  /content/glove.6B.zip\n",
            "  inflating: glove.6B.50d.txt        \n",
            "  inflating: glove.6B.100d.txt       \n",
            "  inflating: glove.6B.200d.txt       \n",
            "  inflating: glove.6B.300d.txt       \n"
          ]
        }
      ]
    },
    {
      "cell_type": "code",
      "source": [
        "glove_dir = '/content'"
      ],
      "metadata": {
        "id": "N4wFP8JUVdUm"
      },
      "execution_count": 73,
      "outputs": []
    },
    {
      "cell_type": "code",
      "source": [
        "embedding_index = {}\n",
        "f = open(os.path.join(glove_dir, 'glove.6B.100d.txt'))\n",
        "for line in f:\n",
        "  values = line.split()\n",
        "  words = values [0]\n",
        "  coefs = np.asarray(values[1:], dtype='float32')\n",
        "  embedding_index[words] = coefs\n",
        "f.close()\n",
        "print('Found %s word vectors.' % len(embedding_index))"
      ],
      "metadata": {
        "colab": {
          "base_uri": "https://localhost:8080/"
        },
        "id": "ZQ1CCFu9d0WI",
        "outputId": "56a4b8f4-728e-4aac-9ec0-60f2c4fb8dd0"
      },
      "execution_count": 104,
      "outputs": [
        {
          "output_type": "stream",
          "name": "stdout",
          "text": [
            "Found 400000 word vectors.\n"
          ]
        }
      ]
    },
    {
      "cell_type": "markdown",
      "source": [
        "I am reading the GloVe word embeddings file 'glove.6B.100d.txt' and extracting word vectors to create an embedding_index dictionary. Each word in the GloVe file corresponds to a pre-trained word vector of dimension 100. The loop reads each line of the file, splits it to separate the word and its corresponding vector values, and converts the vector values to a NumPy array with data type 'float32'. These word vectors are then stored in the embedding_index dictionary, where the word serves as the key and the word vector as the value. Finally, the code prints the number of word vectors found in the file."
      ],
      "metadata": {
        "id": "LfcvQSZQLQvZ"
      }
    },
    {
      "cell_type": "code",
      "source": [
        "# Preparing the GloVe word-embeddings matrix\n",
        "embedding_dim = 100\n",
        "embedding_matrix = np.zeros((max_words, embedding_dim))\n",
        "for word, i in word_index.items():\n",
        "  if i < max_words:\n",
        "    embedding_vector = embedding_index.get(word)\n",
        "    if embedding_vector is not None:\n",
        "      embedding_matrix[i] = embedding_vector\n"
      ],
      "metadata": {
        "id": "iE1brclIeKww"
      },
      "execution_count": 75,
      "outputs": []
    },
    {
      "cell_type": "markdown",
      "source": [
        "I create an embedding_matrix to hold pre-trained word embeddings for our neural network. The matrix is initialized with zeros and has dimensions (max_words, embedding_dim). We then iterate through the word index, retrieving pre-trained word vectors from the embedding_index dictionary and storing them in the corresponding rows of the embedding_matrix. This enables us to leverage the semantic information of the pre-trained word vectors during training in our NLP tasks."
      ],
      "metadata": {
        "id": "6G7Cyj44LrER"
      }
    },
    {
      "cell_type": "code",
      "source": [
        "from keras.models import Sequential\n",
        "from keras.layers import Dense, Flatten, Embedding\n",
        "model = Sequential()\n",
        "model.add(Embedding(max_words, embedding_dim, input_length=maxlen))\n",
        "model.layers[0].set_weights([embedding_matrix])\n",
        "model.layers[0].trainable = False\n",
        "model.add(Flatten())\n",
        "model.add(Dense(32, activation = 'relu'))\n",
        "model.add(Dense(1, activation = 'sigmoid'))\n",
        "model.summary()"
      ],
      "metadata": {
        "colab": {
          "base_uri": "https://localhost:8080/"
        },
        "id": "5zt9gVg96o-q",
        "outputId": "04677070-1b06-40e1-d186-d07934430086"
      },
      "execution_count": 76,
      "outputs": [
        {
          "output_type": "stream",
          "name": "stdout",
          "text": [
            "Model: \"sequential_3\"\n",
            "_________________________________________________________________\n",
            " Layer (type)                Output Shape              Param #   \n",
            "=================================================================\n",
            " embedding_4 (Embedding)     (None, 100, 100)          1000000   \n",
            "                                                                 \n",
            " flatten_3 (Flatten)         (None, 10000)             0         \n",
            "                                                                 \n",
            " dense_5 (Dense)             (None, 32)                320032    \n",
            "                                                                 \n",
            " dense_6 (Dense)             (None, 1)                 33        \n",
            "                                                                 \n",
            "=================================================================\n",
            "Total params: 1,320,065\n",
            "Trainable params: 1,320,065\n",
            "Non-trainable params: 0\n",
            "_________________________________________________________________\n"
          ]
        }
      ]
    },
    {
      "cell_type": "markdown",
      "source": [
        " I create a sequential neural network model for sentiment analysis. The model starts with an Embedding layer with input dimensions max_words, embedding dimensions embedding_dim, and input length maxlen. The embedding layer is initialized with the embedding_matrix obtained from pre-trained GloVe word embeddings and is set to be non-trainable. The model then continues with a Flatten layer followed by two dense layers with 'relu' and 'sigmoid' activations, respectively. The summary of the model shows the layer configuration and the number of trainable parameters."
      ],
      "metadata": {
        "id": "z2-V3TDcL5Yo"
      }
    },
    {
      "cell_type": "code",
      "source": [
        "model.compile(optimizer='rmsprop', loss='binary_crossentropy', metrics=['acc'])"
      ],
      "metadata": {
        "id": "pvr9sIqZAxWK"
      },
      "execution_count": 77,
      "outputs": []
    },
    {
      "cell_type": "code",
      "source": [
        "history = model.fit(x_train, y_train, epochs= 20, batch_size = 32, validation_data=(x_val, y_val) )"
      ],
      "metadata": {
        "id": "WQTWcDAZFiqe"
      },
      "execution_count": null,
      "outputs": []
    },
    {
      "cell_type": "code",
      "source": [
        "model.save_weights('pre_trained_glove_model.h5')"
      ],
      "metadata": {
        "id": "ecH6kYQOGw2x"
      },
      "execution_count": 31,
      "outputs": []
    },
    {
      "cell_type": "code",
      "source": [
        "import matplotlib.pyplot as plt\n",
        "acc = history.history['acc']\n",
        "val_acc = history.history['val_acc']\n",
        "loss = history.history['loss']\n",
        "val_loss = history.history['val_loss']\n",
        "epochs = range(1, len(acc) + 1)\n",
        "plt.plot(epochs, acc, 'bo', label='Training acc')\n",
        "plt.plot(epochs, val_acc, 'b', label='Validation acc')\n",
        "plt.title('Training and validation accuracy')\n",
        "plt.legend()\n",
        "plt.figure()\n",
        "plt.plot(epochs, loss, 'bo', label='Training loss')\n",
        "plt.plot(epochs, val_loss, 'b', label='Validation loss')\n",
        "plt.title('Training and validation loss')\n",
        "plt.legend()\n",
        "plt.show()"
      ],
      "metadata": {
        "colab": {
          "base_uri": "https://localhost:8080/",
          "height": 887
        },
        "id": "5yQyRqcdHj9N",
        "outputId": "add16d69-e769-4704-b7c9-7f6bee100125"
      },
      "execution_count": 32,
      "outputs": [
        {
          "output_type": "display_data",
          "data": {
            "text/plain": [
              "<Figure size 640x480 with 1 Axes>"
            ],
            "image/png": "[encoded data removed]"
          },
          "metadata": {}
        },
        {
          "output_type": "display_data",
          "data": {
            "text/plain": [
              "<Figure size 640x480 with 1 Axes>"
            ],
            "image/png": "[encoded data removed]"
          },
          "metadata": {}
        }
      ]
    },
    {
      "cell_type": "code",
      "source": [
        "test_dir = os.path.join(imdb_dir, 'test')\n",
        "labels = []\n",
        "texets = []\n",
        "for label_type in ['neg', 'pos']:\n",
        "  dir_name = os.path.join(test_dir, label_type)\n",
        "  for fname in sorted(os.listdir(dir_name)):\n",
        "    if fname [-4:] == '.txt':\n",
        "      f = open(os.path.join(dir_name, fname))\n",
        "      texts.append(f.read())\n",
        "      f.close()\n",
        "      if label_type == 'neg':\n",
        "        labels.append(0)\n",
        "      else:\n",
        "        labels.append(1)\n",
        "sequences = tokenizer.texts_to_sequences(texts[25000:50000])\n",
        "x_test = pad_sequences(sequences, maxlen = maxlen)\n",
        "y_test = np.asarray(labels)"
      ],
      "metadata": {
        "id": "6W0GuDm-Hv6x"
      },
      "execution_count": 108,
      "outputs": []
    },
    {
      "cell_type": "markdown",
      "source": [
        " I load the test data from the 'aclImdb' dataset by reading text files from the 'test' directory and assigning corresponding labels (0 for negative and 1 for positive). We then tokenize and pad the text sequences using the same tokenizer and maximum length as before. Finally, the sequences are stored in x_test, and the labels are converted into a numpy array and stored in y_test."
      ],
      "metadata": {
        "id": "6i2IfB53MJft"
      }
    },
    {
      "cell_type": "code",
      "source": [
        "model.load_weights('pre_trained_glove_model.h5')\n",
        "model.evaluate(x_test, y_test)"
      ],
      "metadata": {
        "id": "CiPCt3jbKFzV"
      },
      "execution_count": null,
      "outputs": []
    },
    {
      "cell_type": "markdown",
      "source": [
        "I load the pre-trained model weights stored in 'pre_trained_glove_model.h5' using the load_weights method of the model. Then, we evaluate the model's performance on the test data (x_test) and corresponding labels (y_test) using the evaluate method. The evaluation results, such as loss and accuracy, will be returned and printed to assess the model's performance on the test dataset"
      ],
      "metadata": {
        "id": "L89r0K1YMS5v"
      }
    }
  ]
}